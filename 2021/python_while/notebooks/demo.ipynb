{
 "cells": [
  {
   "cell_type": "code",
   "execution_count": 1,
   "id": "rubber-southeast",
   "metadata": {},
   "outputs": [
    {
     "name": "stdout",
     "output_type": "stream",
     "text": [
      "0\n",
      "-4089856 円は一万円が 0 枚と、五千円札が 0 枚と、千円札が 0 枚と、\n",
      "五百円玉が 0 枚と、百円玉が 0 枚と、五十円玉が 0 枚と、\n",
      "十円玉が 0 枚と、五円玉が 0 枚と、一円玉が 0 枚です。\n"
     ]
    }
   ],
   "source": [
    "money = -4089856\n",
    "moneymoney = money\n",
    "\n",
    "print(money % 1)\n",
    "if money % 1 != 0:\n",
    "    print(\"正しい金額を入力してください。\")\n",
    "else:\n",
    "    money = money\n",
    "    issennmann = 0\n",
    "    hyakumann = 0\n",
    "    juumann = 0\n",
    "    ichimann = 0\n",
    "    gosenn = 0\n",
    "    senn = 0\n",
    "    gohyaku = 0\n",
    "    hyaku = 0\n",
    "    gojuu = 0\n",
    "    juu = 0\n",
    "    go = 0\n",
    "    ichi = 0\n",
    "\n",
    "while money >= 10000000:\n",
    "    money = money - 10000000\n",
    "    issennmann = issennmann + 1\n",
    "while money >= 1000000:\n",
    "    money = money - 1000000\n",
    "    hyakumann = hyakumann + 1\n",
    "while money >= 100000:\n",
    "    money = money - 100000\n",
    "    juumann = juumann + 1\n",
    "while money >= 10000:\n",
    "    money = money - 10000\n",
    "    ichimann = ichimann + 1\n",
    "if money >= 5000:\n",
    "    money = money - 5000\n",
    "    gosenn = 1\n",
    "else:\n",
    "    gosenn = 0\n",
    "while money >= 1000:\n",
    "    money = money - 1000\n",
    "    senn = senn + 1\n",
    "if money >= 500:\n",
    "    money = money - 500\n",
    "    gohyaku = 1\n",
    "else:\n",
    "    gohyaku = 0\n",
    "while money >= 100:\n",
    "    money = money - 100\n",
    "    hyaku = hyaku + 1\n",
    "if money >= 50:\n",
    "    money = money - 50\n",
    "    gojuu = 1\n",
    "else:\n",
    "    gojuu = 0\n",
    "while money >= 10:\n",
    "    money = money - 10\n",
    "    juu = juu + 1\n",
    "if money >= 5:\n",
    "    money = money - 5\n",
    "    go = 1\n",
    "else:\n",
    "    go = 0\n",
    "while money >= 1:\n",
    "    money = money - 1\n",
    "    ichi = ichi + 1\n",
    "\n",
    "mannsatu = issennmann * 1000 + hyakumann * 100 + juumann * 10 + ichimann\n",
    "\n",
    "print(moneymoney, \"円は一万円が\", mannsatu, \"枚と、五千円札が\", gosenn, \"枚と、千円札が\", senn, \"枚と、\")\n",
    "print(\"五百円玉が\", gohyaku, \"枚と、百円玉が\", hyaku, \"枚と、五十円玉が\", gojuu, \"枚と、\")\n",
    "print(\"十円玉が\", juu, \"枚と、五円玉が\", go, \"枚と、一円玉が\", ichi, \"枚です。\")\n"
   ]
  },
  {
   "cell_type": "code",
   "execution_count": null,
   "id": "dominican-dancing",
   "metadata": {},
   "outputs": [],
   "source": []
  },
  {
   "cell_type": "code",
   "execution_count": null,
   "id": "polish-belief",
   "metadata": {},
   "outputs": [],
   "source": []
  }
 ],
 "metadata": {
  "kernelspec": {
   "display_name": "Python 3",
   "language": "python",
   "name": "python3"
  },
  "language_info": {
   "codemirror_mode": {
    "name": "ipython",
    "version": 3
   },
   "file_extension": ".py",
   "mimetype": "text/x-python",
   "name": "python",
   "nbconvert_exporter": "python",
   "pygments_lexer": "ipython3",
   "version": "3.8.6"
  }
 },
 "nbformat": 4,
 "nbformat_minor": 5
}
